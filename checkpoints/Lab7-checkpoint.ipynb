{
 "cells": [
  {
   "cell_type": "markdown",
   "id": "2942dff8",
   "metadata": {},
   "source": [
    "| Name                 | UIN       |\n",
    "|----------------------|-----------|\n",
    "| Huy Lai              | 132000359 |\n",
    "| Alexander Nuccitelli | 000000000 |\n",
    "| Cole Jahnke          | 530009075 |\n",
    "\n",
    "MATH 151-557  \n",
    "02 November 2021"
   ]
  },
  {
   "cell_type": "code",
   "execution_count": null,
   "id": "35f8ea1f",
   "metadata": {},
   "outputs": [],
   "source": [
    "from sympy import *\n",
    "from sympy.plotting import (plot, plot_parametric)"
   ]
  },
  {
   "cell_type": "markdown",
   "id": "36fd17b6",
   "metadata": {},
   "source": [
    "#1a Graph of piecewise function"
   ]
  },
  {
   "cell_type": "code",
   "execution_count": null,
   "id": "7ebc8424",
   "metadata": {},
   "outputs": [],
   "source": [
    "matplotlib notebook"
   ]
  },
  {
   "cell_type": "code",
   "execution_count": null,
   "id": "a7772063",
   "metadata": {},
   "outputs": [],
   "source": []
  },
  {
   "cell_type": "markdown",
   "id": "5d623525",
   "metadata": {},
   "source": [
    "#1b Absolute max and min based on graph"
   ]
  },
  {
   "cell_type": "code",
   "execution_count": null,
   "id": "ebbb0850",
   "metadata": {},
   "outputs": [],
   "source": []
  },
  {
   "cell_type": "markdown",
   "id": "07989dc2",
   "metadata": {},
   "source": [
    "#2a Critical values of f"
   ]
  },
  {
   "cell_type": "code",
   "execution_count": null,
   "id": "84189324",
   "metadata": {},
   "outputs": [],
   "source": []
  },
  {
   "cell_type": "markdown",
   "id": "f3262363",
   "metadata": {},
   "source": [
    "#2b absolute max and min on [0,1]"
   ]
  },
  {
   "cell_type": "code",
   "execution_count": null,
   "id": "2c793fd6",
   "metadata": {},
   "outputs": [],
   "source": []
  },
  {
   "cell_type": "markdown",
   "id": "e993a482",
   "metadata": {},
   "source": [
    "#2c graphical confirmation of part b)"
   ]
  },
  {
   "cell_type": "code",
   "execution_count": null,
   "id": "8d97be92",
   "metadata": {},
   "outputs": [],
   "source": [
    "matplotlib notebook"
   ]
  },
  {
   "cell_type": "code",
   "execution_count": null,
   "id": "1bb2059c",
   "metadata": {},
   "outputs": [],
   "source": []
  },
  {
   "cell_type": "markdown",
   "id": "19b99006",
   "metadata": {},
   "source": [
    "#3a Plot of f and apparent number of local extrema"
   ]
  },
  {
   "cell_type": "code",
   "execution_count": null,
   "id": "bfb1d69c",
   "metadata": {},
   "outputs": [],
   "source": [
    "matplotlib notebook"
   ]
  },
  {
   "cell_type": "code",
   "execution_count": null,
   "id": "52f16004",
   "metadata": {},
   "outputs": [],
   "source": []
  },
  {
   "cell_type": "markdown",
   "id": "a9a01225",
   "metadata": {},
   "source": [
    "#3b Derivative"
   ]
  },
  {
   "cell_type": "code",
   "execution_count": null,
   "id": "4f26dfe3",
   "metadata": {},
   "outputs": [],
   "source": []
  },
  {
   "cell_type": "markdown",
   "id": "63ddb13c",
   "metadata": {},
   "source": [
    "#3c Plot f' in [0.5, 0.7]"
   ]
  },
  {
   "cell_type": "code",
   "execution_count": null,
   "id": "86322b31",
   "metadata": {},
   "outputs": [],
   "source": [
    "matplotlib notebook"
   ]
  },
  {
   "cell_type": "code",
   "execution_count": null,
   "id": "c732525f",
   "metadata": {},
   "outputs": [],
   "source": []
  },
  {
   "cell_type": "markdown",
   "id": "bdffabdf",
   "metadata": {},
   "source": [
    "#3d Critical values in [0.5, 0.7]"
   ]
  },
  {
   "cell_type": "code",
   "execution_count": null,
   "id": "6f668e96",
   "metadata": {},
   "outputs": [],
   "source": []
  },
  {
   "cell_type": "markdown",
   "id": "c1994f90",
   "metadata": {},
   "source": [
    "#3e repeat parts (c) and (d) for the interval [5.5, 5.7]"
   ]
  },
  {
   "cell_type": "code",
   "execution_count": null,
   "id": "71b82d89",
   "metadata": {},
   "outputs": [],
   "source": [
    "matplotlib notebook"
   ]
  },
  {
   "cell_type": "code",
   "execution_count": null,
   "id": "c8fa3461",
   "metadata": {},
   "outputs": [],
   "source": []
  },
  {
   "cell_type": "markdown",
   "id": "a5650ad6",
   "metadata": {},
   "source": [
    "#3f Actual number of local extrema"
   ]
  },
  {
   "cell_type": "code",
   "execution_count": null,
   "id": "292d0eeb",
   "metadata": {},
   "outputs": [],
   "source": []
  },
  {
   "cell_type": "markdown",
   "id": "df81401a",
   "metadata": {},
   "source": [
    "#4a Two-variable function to be maximized and equation relating the two variables"
   ]
  },
  {
   "cell_type": "code",
   "execution_count": null,
   "id": "bd1af966",
   "metadata": {},
   "outputs": [],
   "source": []
  },
  {
   "cell_type": "markdown",
   "id": "38c72a68",
   "metadata": {},
   "source": [
    "#4b Solve equation and substitute into function"
   ]
  },
  {
   "cell_type": "code",
   "execution_count": null,
   "id": "f6ffe59c",
   "metadata": {},
   "outputs": [],
   "source": []
  },
  {
   "cell_type": "markdown",
   "id": "ea71aeac",
   "metadata": {},
   "source": [
    "#4c practical domain"
   ]
  },
  {
   "cell_type": "code",
   "execution_count": null,
   "id": "ef8e0518",
   "metadata": {},
   "outputs": [],
   "source": []
  },
  {
   "cell_type": "markdown",
   "id": "5ac96cc0",
   "metadata": {},
   "source": [
    "#4d Absolute maximum of function from part (b) on domain from part (c)"
   ]
  },
  {
   "cell_type": "code",
   "execution_count": null,
   "id": "7990b838",
   "metadata": {},
   "outputs": [],
   "source": []
  }
 ],
 "metadata": {
  "kernelspec": {
   "display_name": "Python 3",
   "language": "python",
   "name": "python3"
  },
  "language_info": {
   "codemirror_mode": {
    "name": "ipython",
    "version": 3
   },
   "file_extension": ".py",
   "mimetype": "text/x-python",
   "name": "python",
   "nbconvert_exporter": "python",
   "pygments_lexer": "ipython3",
   "version": "3.8.8"
  }
 },
 "nbformat": 4,
 "nbformat_minor": 5
}
