{
 "cells": [
  {
   "cell_type": "markdown",
   "metadata": {},
   "source": [
    "| Name            | UIN       |\n",
    "|-----------------|-----------|\n",
    "| Huy Lai         | 132000359 |\n",
    "| Alex Nuccitelli | 123004567 |\n",
    "| Cole Jahnke     | 530009075 |"
   ]
  },
  {
   "cell_type": "code",
   "execution_count": 1,
   "metadata": {},
   "outputs": [],
   "source": [
    "from sympy import *\n",
    "from sympy.plotting import (plot, plot_parametric)"
   ]
  },
  {
   "cell_type": "markdown",
   "metadata": {},
   "source": [
    "# 1a Evaluate expression"
   ]
  },
  {
   "cell_type": "code",
   "execution_count": 2,
   "metadata": {
    "scrolled": true
   },
   "outputs": [
    {
     "name": "stdout",
     "output_type": "stream",
     "text": [
      "39.3419462186456\n"
     ]
    }
   ],
   "source": [
    "print(sqrt(8 + 80/2.6) + exp(3.5))"
   ]
  },
  {
   "cell_type": "markdown",
   "metadata": {},
   "source": [
    "# 1b Evaluate expression"
   ]
  },
  {
   "cell_type": "code",
   "execution_count": 3,
   "metadata": {},
   "outputs": [
    {
     "name": "stdout",
     "output_type": "stream",
     "text": [
      "8.74958755825782\n"
     ]
    }
   ],
   "source": [
    "print((23 + pow(45, 1/3))/(16 * .7) + log(589.006))"
   ]
  },
  {
   "cell_type": "markdown",
   "metadata": {},
   "source": [
    "# 2a Evaluate variable expression"
   ]
  },
  {
   "cell_type": "code",
   "execution_count": 4,
   "metadata": {
    "scrolled": true
   },
   "outputs": [
    {
     "name": "stdout",
     "output_type": "stream",
     "text": [
      "29.3244518525092\n"
     ]
    }
   ],
   "source": [
    "x = 4.6\n",
    "y = 1.7\n",
    "print((sqrt(x + y)/(pow(x - y, 2))) + 2*pow(x, 2)-x*pow(y, 2))"
   ]
  },
  {
   "cell_type": "markdown",
   "metadata": {},
   "source": [
    "# 2b Evaluate variable expression and test equality"
   ]
  },
  {
   "cell_type": "code",
   "execution_count": 5,
   "metadata": {},
   "outputs": [
    {
     "name": "stdout",
     "output_type": "stream",
     "text": [
      "4.90407993409569\n",
      "6.3\n",
      "The 2 expressions are not equal\n"
     ]
    }
   ],
   "source": [
    "print(sqrt(pow(x, 2) + pow(y , 2)))\n",
    "print(x + y)\n",
    "print(\"The 2 expressions are not equal\")"
   ]
  },
  {
   "cell_type": "markdown",
   "metadata": {},
   "source": [
    "# 3a magnitudes of vectors"
   ]
  },
  {
   "cell_type": "code",
   "execution_count": 6,
   "metadata": {},
   "outputs": [
    {
     "name": "stdout",
     "output_type": "stream",
     "text": [
      "17.0935923667320 11.1061649546547\n"
     ]
    }
   ],
   "source": [
    "a = [9.1, 14.47]\n",
    "b = [-5.55, 9.62]\n",
    "mag_a = sqrt(a[0]**2 + a[1]**2)\n",
    "mag_b = sqrt(b[0]**2 + b[1]**2)\n",
    "print(mag_a, mag_b)"
   ]
  },
  {
   "cell_type": "markdown",
   "metadata": {},
   "source": [
    "# 3b angle C using Law of Cosines"
   ]
  },
  {
   "cell_type": "code",
   "execution_count": 7,
   "metadata": {},
   "outputs": [
    {
     "name": "stdout",
     "output_type": "stream",
     "text": [
      "1.08466815485090\n"
     ]
    }
   ],
   "source": [
    "c_squared = (a[0] - b[0])**2 + (a[1] - b[1])**2\n",
    "print(acos((mag_a**2 + mag_b**2 - c_squared)/(2 * mag_a * mag_b)))"
   ]
  },
  {
   "cell_type": "markdown",
   "metadata": {},
   "source": [
    "# 3c angle C using dot product"
   ]
  },
  {
   "cell_type": "code",
   "execution_count": 8,
   "metadata": {},
   "outputs": [
    {
     "name": "stdout",
     "output_type": "stream",
     "text": [
      "1.08466815485090\n"
     ]
    }
   ],
   "source": [
    "dot_ab = (a[0] * b[0] + a[1] * b[1])\n",
    "print(acos(dot_ab/(mag_a * mag_b)))"
   ]
  }
 ],
 "metadata": {
  "kernelspec": {
   "display_name": "Python 3",
   "language": "python",
   "name": "python3"
  },
  "language_info": {
   "codemirror_mode": {
    "name": "ipython",
    "version": 3
   },
   "file_extension": ".py",
   "mimetype": "text/x-python",
   "name": "python",
   "nbconvert_exporter": "python",
   "pygments_lexer": "ipython3",
   "version": "3.8.8"
  }
 },
 "nbformat": 4,
 "nbformat_minor": 2
}
