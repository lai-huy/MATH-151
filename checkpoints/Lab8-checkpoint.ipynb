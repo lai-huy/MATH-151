{
 "cells": [
  {
   "cell_type": "markdown",
   "id": "2942dff8",
   "metadata": {},
   "source": [
    "| Name                 | UIN       |\n",
    "|----------------------|-----------|\n",
    "| Huy Lai              | 132000359 |\n",
    "| Alexander Nuccitelli | 000000000 |\n",
    "| Cole Jahnke          | 530009075 |\n",
    "\n",
    "MATH 151-557  \n",
    "02 November 2021"
   ]
  },
  {
   "cell_type": "code",
   "execution_count": null,
   "id": "35f8ea1f",
   "metadata": {},
   "outputs": [],
   "source": [
    "from sympy import *\n",
    "from sympy.plotting import (plot, plot_parametric)"
   ]
  },
  {
   "cell_type": "markdown",
   "id": "19b99006",
   "metadata": {},
   "source": [
    "#1a find and simplify the derivative of f-g"
   ]
  },
  {
   "cell_type": "code",
   "execution_count": null,
   "id": "52f16004",
   "metadata": {},
   "outputs": [],
   "source": []
  },
  {
   "cell_type": "markdown",
   "id": "a9a01225",
   "metadata": {},
   "source": [
    "#1bc Implication of f-g and specific answer"
   ]
  },
  {
   "cell_type": "code",
   "execution_count": null,
   "id": "4f26dfe3",
   "metadata": {},
   "outputs": [],
   "source": []
  },
  {
   "cell_type": "markdown",
   "id": "80a5b003",
   "metadata": {},
   "source": [
    "#2a critical values of g"
   ]
  },
  {
   "cell_type": "code",
   "execution_count": null,
   "id": "18dc74cb",
   "metadata": {},
   "outputs": [],
   "source": []
  },
  {
   "cell_type": "markdown",
   "id": "35dc9eb5",
   "metadata": {},
   "source": [
    "#2b intervals where g is increasing/decreasing\n",
    "\n",
    "(command below in case graphical method is chosen)"
   ]
  },
  {
   "cell_type": "code",
   "execution_count": null,
   "id": "3e1eb39e",
   "metadata": {},
   "outputs": [],
   "source": [
    "matplotlib notebook"
   ]
  },
  {
   "cell_type": "code",
   "execution_count": null,
   "id": "ecbd2e20",
   "metadata": {},
   "outputs": [],
   "source": []
  },
  {
   "cell_type": "markdown",
   "id": "7c67c722",
   "metadata": {},
   "source": [
    "#2c where g'' = 0"
   ]
  },
  {
   "cell_type": "code",
   "execution_count": null,
   "id": "d36972e0",
   "metadata": {},
   "outputs": [],
   "source": []
  },
  {
   "cell_type": "markdown",
   "id": "e1718538",
   "metadata": {},
   "source": [
    "#2d intervals of concavity of g\n",
    "\n",
    "(command below in case graphical method is chosen)"
   ]
  },
  {
   "cell_type": "code",
   "execution_count": null,
   "id": "3e47c427",
   "metadata": {},
   "outputs": [],
   "source": [
    "matplotlib notebook"
   ]
  },
  {
   "cell_type": "code",
   "execution_count": null,
   "id": "53ab7c50",
   "metadata": {},
   "outputs": [],
   "source": []
  },
  {
   "cell_type": "markdown",
   "id": "9ddc403f",
   "metadata": {},
   "source": [
    "#2e Plot to graphically confirm answers to (b) and (d)"
   ]
  },
  {
   "cell_type": "code",
   "execution_count": null,
   "id": "d67f3950",
   "metadata": {},
   "outputs": [],
   "source": [
    "matplotlib notebook"
   ]
  },
  {
   "cell_type": "code",
   "execution_count": null,
   "id": "72e43a63",
   "metadata": {},
   "outputs": [],
   "source": []
  },
  {
   "cell_type": "markdown",
   "id": "4b706250",
   "metadata": {},
   "source": [
    "#3a Plot of f and number of extrema and inflection points based on graph"
   ]
  },
  {
   "cell_type": "code",
   "execution_count": null,
   "id": "58cb4ad7",
   "metadata": {},
   "outputs": [],
   "source": [
    "matplotlib notebook"
   ]
  },
  {
   "cell_type": "code",
   "execution_count": null,
   "id": "08aa1668",
   "metadata": {},
   "outputs": [],
   "source": []
  },
  {
   "cell_type": "markdown",
   "id": "c2af0726",
   "metadata": {},
   "source": [
    "#3b f' and critical values"
   ]
  },
  {
   "cell_type": "code",
   "execution_count": null,
   "id": "0ff7bc14",
   "metadata": {},
   "outputs": [],
   "source": []
  },
  {
   "cell_type": "markdown",
   "id": "7da7e025",
   "metadata": {},
   "source": [
    "#3c intervals of increase or decrease\n",
    "\n",
    "(command below in case graphical method is chosen)"
   ]
  },
  {
   "cell_type": "code",
   "execution_count": null,
   "id": "dc3d0c6d",
   "metadata": {},
   "outputs": [],
   "source": [
    "matplotlib notebook"
   ]
  },
  {
   "cell_type": "code",
   "execution_count": null,
   "id": "1af7c113",
   "metadata": {},
   "outputs": [],
   "source": []
  },
  {
   "cell_type": "markdown",
   "id": "1c27f663",
   "metadata": {},
   "source": [
    "#3d intervals of concavity\n",
    "\n",
    "(command below in case graphical method is chosen)"
   ]
  },
  {
   "cell_type": "code",
   "execution_count": null,
   "id": "c450b1ca",
   "metadata": {},
   "outputs": [],
   "source": [
    "matplotlib notebook"
   ]
  },
  {
   "cell_type": "code",
   "execution_count": null,
   "id": "5d62d76e",
   "metadata": {},
   "outputs": [],
   "source": []
  },
  {
   "cell_type": "markdown",
   "id": "810b0f8f",
   "metadata": {},
   "source": [
    "#3e actual number of local extrema and inflection points"
   ]
  },
  {
   "cell_type": "code",
   "execution_count": null,
   "id": "a3d3153c",
   "metadata": {},
   "outputs": [],
   "source": []
  },
  {
   "cell_type": "markdown",
   "id": "5b703645",
   "metadata": {},
   "source": [
    "#4a Define f and g for ln(y)"
   ]
  },
  {
   "cell_type": "code",
   "execution_count": null,
   "id": "fef2caba",
   "metadata": {},
   "outputs": [],
   "source": []
  },
  {
   "cell_type": "markdown",
   "id": "2f1e546a",
   "metadata": {},
   "source": [
    "#4b limits of f and g as x approaches 0"
   ]
  },
  {
   "cell_type": "code",
   "execution_count": null,
   "id": "e0ddf0fa",
   "metadata": {},
   "outputs": [],
   "source": []
  },
  {
   "cell_type": "markdown",
   "id": "52eecf35",
   "metadata": {},
   "source": [
    "#4c Apply L'Hospital's Rule if applicable"
   ]
  },
  {
   "cell_type": "code",
   "execution_count": null,
   "id": "3ae40986",
   "metadata": {},
   "outputs": [],
   "source": []
  },
  {
   "cell_type": "markdown",
   "id": "3f2174ed",
   "metadata": {},
   "source": [
    "#4d limit directly in Python"
   ]
  },
  {
   "cell_type": "code",
   "execution_count": null,
   "id": "bd074ab2",
   "metadata": {},
   "outputs": [],
   "source": []
  }
 ],
 "metadata": {
  "kernelspec": {
   "display_name": "Python 3",
   "language": "python",
   "name": "python3"
  },
  "language_info": {
   "codemirror_mode": {
    "name": "ipython",
    "version": 3
   },
   "file_extension": ".py",
   "mimetype": "text/x-python",
   "name": "python",
   "nbconvert_exporter": "python",
   "pygments_lexer": "ipython3",
   "version": "3.8.8"
  }
 },
 "nbformat": 4,
 "nbformat_minor": 5
}
